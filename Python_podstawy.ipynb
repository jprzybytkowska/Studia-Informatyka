{
  "nbformat": 4,
  "nbformat_minor": 0,
  "metadata": {
    "colab": {
      "provenance": [],
      "authorship_tag": "ABX9TyM+Vzl6JcMGqwkPceUW02ht",
      "include_colab_link": true
    },
    "kernelspec": {
      "name": "python3",
      "display_name": "Python 3"
    },
    "language_info": {
      "name": "python"
    }
  },
  "cells": [
    {
      "cell_type": "markdown",
      "metadata": {
        "id": "view-in-github",
        "colab_type": "text"
      },
      "source": [
        "<a href=\"https://colab.research.google.com/github/jprzybytkowska/Studia-Informatyka/blob/main/Python_podstawy.ipynb\" target=\"_parent\"><img src=\"https://colab.research.google.com/assets/colab-badge.svg\" alt=\"Open In Colab\"/></a>"
      ]
    },
    {
      "cell_type": "markdown",
      "source": [
        "# Zjazd numer 1 - Podstawy Python"
      ],
      "metadata": {
        "id": "ZcHgWxuVF5Si"
      }
    },
    {
      "cell_type": "markdown",
      "source": [
        "# 23.11.2024"
      ],
      "metadata": {
        "id": "_awgsT6nGbeV"
      }
    },
    {
      "cell_type": "markdown",
      "source": [
        "# Typy numeryczne"
      ],
      "metadata": {
        "id": "cC-MBAGZGmhZ"
      }
    },
    {
      "cell_type": "code",
      "source": [
        "\n",
        "#dodawanie\n",
        "a = 10\n",
        "b = 20\n",
        "print(a+b)"
      ],
      "metadata": {
        "colab": {
          "base_uri": "https://localhost:8080/"
        },
        "id": "VJQzSER9FJ4l",
        "outputId": "f334afde-a7da-4233-d61a-d6b232204a3b"
      },
      "execution_count": null,
      "outputs": [
        {
          "output_type": "stream",
          "name": "stdout",
          "text": [
            "30\n"
          ]
        }
      ]
    },
    {
      "cell_type": "code",
      "source": [
        "#odejmowanie\n",
        "a = 5\n",
        "b = 3\n",
        "print(a-b)"
      ],
      "metadata": {
        "colab": {
          "base_uri": "https://localhost:8080/"
        },
        "id": "AfkBJ9trSGFT",
        "outputId": "f74627ec-7919-4405-d051-0d509c4f1c16"
      },
      "execution_count": null,
      "outputs": [
        {
          "output_type": "stream",
          "name": "stdout",
          "text": [
            "2\n"
          ]
        }
      ]
    },
    {
      "cell_type": "code",
      "source": [
        "#mnozenie\n",
        "wynik = a*b\n",
        "print(wynik)"
      ],
      "metadata": {
        "colab": {
          "base_uri": "https://localhost:8080/"
        },
        "id": "tWHYMXTMSjYu",
        "outputId": "942dad93-f914-4ad9-952d-fcbddd6710c7"
      },
      "execution_count": null,
      "outputs": [
        {
          "output_type": "stream",
          "name": "stdout",
          "text": [
            "15\n"
          ]
        }
      ]
    },
    {
      "cell_type": "code",
      "source": [
        "#dzielenie\n",
        "wynik = a/b\n",
        "print(wynik)"
      ],
      "metadata": {
        "colab": {
          "base_uri": "https://localhost:8080/"
        },
        "id": "2Z6GYMSUTLSV",
        "outputId": "fa317362-73e6-491a-a387-3bfc3e82a246"
      },
      "execution_count": null,
      "outputs": [
        {
          "output_type": "stream",
          "name": "stdout",
          "text": [
            "1.6666666666666667\n"
          ]
        }
      ]
    },
    {
      "cell_type": "code",
      "source": [
        "#dzielenie bez reszty/dzielenie calkowite\n",
        "print(a//b)"
      ],
      "metadata": {
        "colab": {
          "base_uri": "https://localhost:8080/"
        },
        "id": "bDQVP2o4TRh6",
        "outputId": "656189cd-819c-4b52-ccbe-c75fc24a0336"
      },
      "execution_count": null,
      "outputs": [
        {
          "output_type": "stream",
          "name": "stdout",
          "text": [
            "1\n"
          ]
        }
      ]
    },
    {
      "cell_type": "code",
      "source": [
        "#dzielenie modulo - wyznaczenie reszty z dzielenia\n",
        "18%7"
      ],
      "metadata": {
        "colab": {
          "base_uri": "https://localhost:8080/"
        },
        "id": "rBCO3aSNTa98",
        "outputId": "e699ed28-9779-40e2-a814-163d15c6da0f"
      },
      "execution_count": null,
      "outputs": [
        {
          "output_type": "execute_result",
          "data": {
            "text/plain": [
              "4"
            ]
          },
          "metadata": {},
          "execution_count": 13
        }
      ]
    },
    {
      "cell_type": "markdown",
      "source": [
        "Konwersja typow danych"
      ],
      "metadata": {
        "id": "83esQICDT-rd"
      }
    },
    {
      "cell_type": "code",
      "source": [
        "int_ = int(1.3847384)\n",
        "fl = float(15)\n",
        "compl = complex(2)\n",
        "\n",
        "print(int_)\n",
        "print(fl)\n",
        "print(compl)"
      ],
      "metadata": {
        "colab": {
          "base_uri": "https://localhost:8080/"
        },
        "id": "OD_B8QOdT8Nt",
        "outputId": "c0adb328-36e9-4b5a-cb4e-1e0d3a0a6c63"
      },
      "execution_count": null,
      "outputs": [
        {
          "output_type": "stream",
          "name": "stdout",
          "text": [
            "1\n",
            "15.0\n",
            "(2+0j)\n"
          ]
        }
      ]
    },
    {
      "cell_type": "markdown",
      "source": [
        "Pobieranie danych od uzytkownika"
      ],
      "metadata": {
        "id": "sb9ejRVEUfKn"
      }
    },
    {
      "cell_type": "code",
      "source": [
        "pobranie = eval(input(\"Wpisz liczbe \"))\n",
        "wynik = pobranie**2\n",
        "print(\"Twoja liczba podniesiona do kwadratu to: \", wynik)"
      ],
      "metadata": {
        "colab": {
          "base_uri": "https://localhost:8080/"
        },
        "id": "y92P_8tIUiL1",
        "outputId": "f784a411-d28f-4dc8-f53f-6fdbbb16ab29"
      },
      "execution_count": null,
      "outputs": [
        {
          "output_type": "stream",
          "name": "stdout",
          "text": [
            "Wpisz liczbe 5\n",
            "Twoja liczba podniesiona do kwadratu to:  25\n"
          ]
        }
      ]
    },
    {
      "cell_type": "code",
      "source": [
        "liczba = eval(input(\"Wpisz liczbe: \"))\n",
        "print(liczba*2, \"---\", liczba*3, \"---\", liczba*4, \"---\", liczba*5, \"---\")"
      ],
      "metadata": {
        "colab": {
          "base_uri": "https://localhost:8080/"
        },
        "id": "dxLbU2czVL9K",
        "outputId": "d2adb644-8da7-41c2-e3ba-f9357837c12b"
      },
      "execution_count": null,
      "outputs": [
        {
          "output_type": "stream",
          "name": "stdout",
          "text": [
            "Wpisz liczbe: 10\n",
            "20 --- 30 --- 40 --- 50 ---\n"
          ]
        }
      ]
    },
    {
      "cell_type": "code",
      "source": [
        "#pobranie trzech liczb od uzytkownika i obliczenie sredniej arytmetycznej\n",
        "\n",
        "liczba1 = eval(input(\"Wpisz liczbe 1: \"))\n",
        "liczba2 = eval(input(\"Wpisz liczbe 2: \"))\n",
        "liczba3 = eval(input(\"Wpisz liczbe 3: \"))\n",
        "srednia = (liczba1 + liczba2 + liczba3)/3\n",
        "print(\"srednia Twoich liczb to: \", srednia)"
      ],
      "metadata": {
        "colab": {
          "base_uri": "https://localhost:8080/"
        },
        "id": "mePbo_8zVtM9",
        "outputId": "bc1452a2-27aa-4514-b82a-cc4cff498e93"
      },
      "execution_count": null,
      "outputs": [
        {
          "output_type": "stream",
          "name": "stdout",
          "text": [
            "Wpisz liczbe 1: 4\n",
            "Wpisz liczbe 2: 5\n",
            "Wpisz liczbe 3: 4\n",
            "srednia Twoich liczb to:  4.333333333333333\n"
          ]
        }
      ]
    },
    {
      "cell_type": "code",
      "source": [
        "#zmiana wagi z kilogramow na funty\n",
        "\n",
        "waga = eval(input(\"wpisz swoja wage: \"))\n",
        "\n",
        "funty =  waga * 2.2\n",
        "\n",
        "print(\"Twoja waga w funtach to: \", funty)"
      ],
      "metadata": {
        "colab": {
          "base_uri": "https://localhost:8080/"
        },
        "id": "xfzPDPwWWZPg",
        "outputId": "a22e4ae9-feb7-4ebf-bd78-459b803f333d"
      },
      "execution_count": null,
      "outputs": [
        {
          "output_type": "stream",
          "name": "stdout",
          "text": [
            "wpisz swoja wage: 100\n",
            "Twoja waga w funtach to:  220.00000000000003\n"
          ]
        }
      ]
    },
    {
      "cell_type": "code",
      "source": [
        "#kalkulator dzielenia\n",
        "\n",
        "liczba1 = eval(input(\"wpisz liczbe, ktora chcesz podzielic \"))\n",
        "liczba2 = eval(input(\"wpisz dzielnik \"))\n",
        "\n",
        "wynik = liczba1/liczba2\n",
        "print(\"Wynik to: \", wynik)"
      ],
      "metadata": {
        "colab": {
          "base_uri": "https://localhost:8080/"
        },
        "id": "51LNebFcXrzb",
        "outputId": "4e95d70a-2b6d-42d2-86b0-d7675869af7c"
      },
      "execution_count": null,
      "outputs": [
        {
          "output_type": "stream",
          "name": "stdout",
          "text": [
            "wpisz liczbe, ktora chcesz podzielic 10\n",
            "wpisz dzielnik 2\n",
            "Wynik to:  5.0\n"
          ]
        }
      ]
    },
    {
      "cell_type": "code",
      "source": [
        "#nalezy zwrocic uwage na kolejnosc wykonywania dzialan\n",
        "(3+8)**2+(32/4+8)"
      ],
      "metadata": {
        "colab": {
          "base_uri": "https://localhost:8080/"
        },
        "id": "0QE9gWzhYp5a",
        "outputId": "4beb5d26-5db3-4930-eb2c-a9df8f0f4b7f"
      },
      "execution_count": null,
      "outputs": [
        {
          "output_type": "execute_result",
          "data": {
            "text/plain": [
              "137.0"
            ]
          },
          "metadata": {},
          "execution_count": 22
        }
      ]
    },
    {
      "cell_type": "markdown",
      "source": [
        "# Zadania do przecwiczenia"
      ],
      "metadata": {
        "id": "gmFPwz4fZYdM"
      }
    },
    {
      "cell_type": "code",
      "source": [
        "#zad 1 Napisz program, ktory obliczy nastepujace wyrazenie:  (5*2-(6+(-1))) / (8-3)\n",
        "\n",
        "wynik = ((5*2)-(6+(-1)))/(8-3)\n",
        "print(\"Wynik wyrazenia to: \", wynik)\n"
      ],
      "metadata": {
        "colab": {
          "base_uri": "https://localhost:8080/"
        },
        "id": "Jtq0swuiZWod",
        "outputId": "1d29c61c-7a1e-4a87-b261-dbe425e28de1"
      },
      "execution_count": null,
      "outputs": [
        {
          "output_type": "stream",
          "name": "stdout",
          "text": [
            "Wynik wyrazenia to:  1.0\n"
          ]
        }
      ]
    },
    {
      "cell_type": "code",
      "source": [
        "# zad 2 Napisz program, który przyjmuje wartości: a = 10, b = 4, c = 7, Wszystkie zmienne podnieś do potęgi 3, po czym wyświetl ich łączną sumę.\n",
        "a=10\n",
        "b=4\n",
        "c=7\n",
        "\n",
        "wynik = ((a**3)+(b**3)+(c**3))\n",
        "print(\"Suma to: \", wynik)"
      ],
      "metadata": {
        "colab": {
          "base_uri": "https://localhost:8080/"
        },
        "id": "1sVoZSuXaISM",
        "outputId": "a55b783a-e05d-485d-9aa2-8d25efd7b272"
      },
      "execution_count": null,
      "outputs": [
        {
          "output_type": "stream",
          "name": "stdout",
          "text": [
            "Suma to:  1407\n"
          ]
        }
      ]
    },
    {
      "cell_type": "code",
      "source": [
        "# zad 3 Napisz program, który pobiera od użytkownika 2 liczby, po czym oblicza ich różnicę.\n",
        "\n",
        "liczba1=eval(input(\"wpisz liczbe nr 1: \"))\n",
        "liczba2=eval(input(\"wpisz liczbe nr 2: \"))\n",
        "\n",
        "wynik = liczba1-liczba2\n",
        "print(\"Roznica wynosi: \", wynik)"
      ],
      "metadata": {
        "colab": {
          "base_uri": "https://localhost:8080/"
        },
        "id": "XDlgBLyyaiU8",
        "outputId": "5af74009-b795-4447-b223-5f7aad6ef019"
      },
      "execution_count": null,
      "outputs": [
        {
          "output_type": "stream",
          "name": "stdout",
          "text": [
            "wpisz liczbe nr 1: 5\n",
            "wpisz liczbe nr 2: 5\n",
            "Roznica wynosi:  0\n"
          ]
        }
      ]
    },
    {
      "cell_type": "code",
      "source": [
        "# zad 4 Napisz program, który pobiera od użytkownika temperaturę w stopniach celcjusza, następnie przelicz podane stopnie na stopnie Fahrenheita za pomocą przekształcenia: fahrenheit = celsius * (9 / 5) + 32\n",
        "\n",
        "temperatura=float(input(\"podaj temperature w stopniach celsjusza: \"))\n",
        "\n",
        "fahrenheit = temperatura * (9/5)+32\n",
        "\n",
        "print(\"Temperatura w fahrenheitach to: \", fahrenheit)"
      ],
      "metadata": {
        "colab": {
          "base_uri": "https://localhost:8080/"
        },
        "id": "KrZlx2w-a7bj",
        "outputId": "cfa16d25-c006-47c9-a66a-5fe01ac9168b"
      },
      "execution_count": null,
      "outputs": [
        {
          "output_type": "stream",
          "name": "stdout",
          "text": [
            "podaj temperature w stopniach celsjusza: 1.5\n",
            "Temperatura w fahrenheitach to:  34.7\n"
          ]
        }
      ]
    },
    {
      "cell_type": "markdown",
      "source": [
        "# 24.11.2024"
      ],
      "metadata": {
        "id": "RWuckJaMGxQG"
      }
    },
    {
      "cell_type": "markdown",
      "source": [
        "# Typy tekstowe"
      ],
      "metadata": {
        "id": "2A_jev02CEYq"
      }
    },
    {
      "cell_type": "code",
      "source": [
        "napis = \"Hello\"\n",
        "napis_caly = napis + \" \" + napis\n",
        "print(napis_caly)"
      ],
      "metadata": {
        "colab": {
          "base_uri": "https://localhost:8080/"
        },
        "id": "BiOsXGoeCDIS",
        "outputId": "24606f7c-d0a8-4356-c5f9-4013a6444385"
      },
      "execution_count": 1,
      "outputs": [
        {
          "output_type": "stream",
          "name": "stdout",
          "text": [
            "Hello Hello\n"
          ]
        }
      ]
    },
    {
      "cell_type": "code",
      "source": [
        "dane = input(\"Podaj swoje imie \")\n",
        "print(\"Dzien dobry \", dane)"
      ],
      "metadata": {
        "colab": {
          "base_uri": "https://localhost:8080/"
        },
        "id": "nAq1MhaeEGkC",
        "outputId": "abbfcec8-2444-42b8-e229-1195e244e68c"
      },
      "execution_count": 2,
      "outputs": [
        {
          "output_type": "stream",
          "name": "stdout",
          "text": [
            "Podaj swoje imie Justyna\n",
            "Dzien dobry  Justyna\n"
          ]
        }
      ]
    },
    {
      "cell_type": "code",
      "source": [
        "#wyswietl prostokat wypelniony znakami \"*\"\n",
        "\n",
        "a=\"*\"\n",
        "\n",
        "print(a*20)\n",
        "print(a*20)\n",
        "print(a*20)\n",
        "print(a*20)"
      ],
      "metadata": {
        "colab": {
          "base_uri": "https://localhost:8080/"
        },
        "id": "QrN_J5XNERQl",
        "outputId": "ca4c767e-20f4-46a1-fa74-39691846d1c4"
      },
      "execution_count": 3,
      "outputs": [
        {
          "output_type": "stream",
          "name": "stdout",
          "text": [
            "********************\n",
            "********************\n",
            "********************\n",
            "********************\n"
          ]
        }
      ]
    },
    {
      "cell_type": "code",
      "source": [
        "#wyswietl obramowanie prostokata\n",
        "\n",
        "a = \"*\"\n",
        "\n",
        "print(a*20)\n",
        "print(a, \" \" *16, a)\n",
        "print(a, \" \" *16, a)\n",
        "print(a*20)"
      ],
      "metadata": {
        "colab": {
          "base_uri": "https://localhost:8080/"
        },
        "id": "x490Qqm-Eva4",
        "outputId": "a865eaa8-7ebf-4bdf-f13b-e0382a95c32e"
      },
      "execution_count": 5,
      "outputs": [
        {
          "output_type": "stream",
          "name": "stdout",
          "text": [
            "********************\n",
            "*                  *\n",
            "*                  *\n",
            "********************\n"
          ]
        }
      ]
    },
    {
      "cell_type": "code",
      "source": [
        "#wyswietl trojkat prostokatny zlozony z gwiazdek\n",
        "\n",
        "print(\"*\\n**\\n***\\n****\")"
      ],
      "metadata": {
        "colab": {
          "base_uri": "https://localhost:8080/"
        },
        "id": "5eg9YG69FSrv",
        "outputId": "bec86a56-8266-4a11-a297-f18de2c4796a"
      },
      "execution_count": 6,
      "outputs": [
        {
          "output_type": "stream",
          "name": "stdout",
          "text": [
            "*\n",
            "**\n",
            "***\n",
            "****\n"
          ]
        }
      ]
    },
    {
      "cell_type": "markdown",
      "source": [
        "Indeksowanie stringow"
      ],
      "metadata": {
        "id": "sncwEH4qFvbM"
      }
    },
    {
      "cell_type": "code",
      "source": [
        "napis = \"Python\"\n",
        "print(napis[0]) #indeksowanie w jezyku python zaczynamy od zera\n",
        "print(napis[1])\n",
        "print(napis[2])\n",
        "print(napis[3])\n",
        "print(napis[4])\n",
        "print(napis[5])\n"
      ],
      "metadata": {
        "colab": {
          "base_uri": "https://localhost:8080/"
        },
        "id": "BH1ITq-1FzGM",
        "outputId": "cbb1fc6a-2343-4798-d9c7-66b74d32710a"
      },
      "execution_count": 9,
      "outputs": [
        {
          "output_type": "stream",
          "name": "stdout",
          "text": [
            "P\n",
            "y\n",
            "t\n",
            "h\n",
            "o\n",
            "n\n"
          ]
        }
      ]
    },
    {
      "cell_type": "code",
      "source": [
        "#wyswietlanie kawalka stringa\n",
        "print(napis[0:4]) #python liczy od 0 i wyswietli 4 znaki, czyli 0, 1, 2, 3"
      ],
      "metadata": {
        "colab": {
          "base_uri": "https://localhost:8080/"
        },
        "id": "0dK4j4GNHKKy",
        "outputId": "9c3fa4ed-7cdc-4f27-e0b7-a02881736324"
      },
      "execution_count": 10,
      "outputs": [
        {
          "output_type": "stream",
          "name": "stdout",
          "text": [
            "Pyth\n"
          ]
        }
      ]
    },
    {
      "cell_type": "code",
      "source": [
        "print(napis[4:]) #uwzgledniamy pierwszy element od ktorego ma zaczac wyswietlanie i nie deklarujemy konca, wie cozstanie caly wyswietlony\n"
      ],
      "metadata": {
        "colab": {
          "base_uri": "https://localhost:8080/"
        },
        "id": "BOhD3FnII_LT",
        "outputId": "d30f9bcf-a509-472e-ce8c-d7c33056b0b1"
      },
      "execution_count": 11,
      "outputs": [
        {
          "output_type": "stream",
          "name": "stdout",
          "text": [
            "on\n"
          ]
        }
      ]
    },
    {
      "cell_type": "markdown",
      "source": [
        "Metody (wbudowane)"
      ],
      "metadata": {
        "id": "ID_br7lHJT9H"
      }
    },
    {
      "cell_type": "code",
      "source": [
        "#zmiana wielkosci liter\n",
        "\n",
        "tekst1 = \"Hello WorlD\"\n",
        "zmiana1 = tekst1.lower() #metoda lower powoduje ze wszystkie litery zostaly zmienione na male\n",
        "zmiana2 = tekst1.upper() #metoda upper powoduje ze wszystkie litery zostaly zmienione na wielkie\n",
        "zmiana3 = tekst1.capitalize() #metoda capitalize powoduje ze pierwsza litera zostala zmieniona na wielka, a reszta jest z malej\n",
        "zmiana4 = tekst1.title() #metoda title powoduje ze pierwsze litery obydwoch wyrazow zostaly zmienione na wielkie, a reszta jest z malej\n",
        "\n",
        "print(zmiana1)\n",
        "print(zmiana2)\n",
        "print(zmiana3)\n",
        "print(zmiana4)"
      ],
      "metadata": {
        "colab": {
          "base_uri": "https://localhost:8080/"
        },
        "id": "MnTSAcBcJS5J",
        "outputId": "c60ac6b6-cb29-49a7-802d-9b5bc74a15fe"
      },
      "execution_count": 12,
      "outputs": [
        {
          "output_type": "stream",
          "name": "stdout",
          "text": [
            "hello world\n",
            "HELLO WORLD\n",
            "Hello world\n",
            "Hello World\n"
          ]
        }
      ]
    },
    {
      "cell_type": "code",
      "source": [
        "#zliaczanie wystapien\n",
        "\n",
        "zdanie = \"To jest przykladowe zdanie do zliczania wystapien w stringu\"\n",
        "zdanie.count(\"e\") #metoda count zlicza ile razy litera \"e\" wystepuje w zdaniu"
      ],
      "metadata": {
        "colab": {
          "base_uri": "https://localhost:8080/"
        },
        "id": "KJ4yTuZlKoHk",
        "outputId": "9b2e4119-22a6-4f7c-b0aa-63b0253ce5c8"
      },
      "execution_count": 13,
      "outputs": [
        {
          "output_type": "execute_result",
          "data": {
            "text/plain": [
              "4"
            ]
          },
          "metadata": {},
          "execution_count": 13
        }
      ]
    },
    {
      "cell_type": "code",
      "source": [
        "#zastapienie wybranych elementow stringa innymi\n",
        "\n",
        "zdanie = \"To jest przykladowe zdanie do zliczania wystapien w stringu\"\n",
        "zdanie.replace(\"e\", \"X\") #metoda replace zamienia wskazana na poczatku litere \"e\" na wskazana druga \"X\""
      ],
      "metadata": {
        "colab": {
          "base_uri": "https://localhost:8080/",
          "height": 35
        },
        "id": "xKvWmhrVK_a5",
        "outputId": "0af2b30a-8e79-4413-d1d5-e5215ff347ed"
      },
      "execution_count": 14,
      "outputs": [
        {
          "output_type": "execute_result",
          "data": {
            "text/plain": [
              "'To jXst przykladowX zdaniX do zliczania wystapiXn w stringu'"
            ],
            "application/vnd.google.colaboratory.intrinsic+json": {
              "type": "string"
            }
          },
          "metadata": {},
          "execution_count": 14
        }
      ]
    },
    {
      "cell_type": "code",
      "source": [
        "#tworzenie list\n",
        "\n",
        "lista_str = [\"jablko\", \"gruszka\", \"banan\", \"sliwka\"]\n",
        "print(lista_str)"
      ],
      "metadata": {
        "colab": {
          "base_uri": "https://localhost:8080/"
        },
        "id": "uiBtRVUfLg55",
        "outputId": "283e8790-dc54-4f00-9237-9a27bed571cc"
      },
      "execution_count": 15,
      "outputs": [
        {
          "output_type": "stream",
          "name": "stdout",
          "text": [
            "['jablko', 'gruszka', 'banan', 'sliwka']\n"
          ]
        }
      ]
    },
    {
      "cell_type": "code",
      "source": [
        "#wskazanie w jaki sposob chcemy rozdzielic stringi we wskazanej liscie stringow i jest to jako jeden caly string, a nie jak wyzej osobne\n",
        "\n",
        "  (\",\").join(lista_str)"
      ],
      "metadata": {
        "colab": {
          "base_uri": "https://localhost:8080/",
          "height": 35
        },
        "id": "U7aaEtQ_MIIN",
        "outputId": "03cb801a-7aff-4ed2-c0f3-c440494da625"
      },
      "execution_count": 16,
      "outputs": [
        {
          "output_type": "execute_result",
          "data": {
            "text/plain": [
              "'jablko,gruszka,banan,sliwka'"
            ],
            "application/vnd.google.colaboratory.intrinsic+json": {
              "type": "string"
            }
          },
          "metadata": {},
          "execution_count": 16
        }
      ]
    },
    {
      "cell_type": "code",
      "source": [
        "#znajdowanie elementow w stringu\n",
        "\n",
        "zdanie_znajdz = \"znajdz banana w tekscie\"\n",
        "\n",
        "zdanie_znajdz.find(\"banana\") #metoda find zwraca numer indeksu pierwszej litery szukanej frazy\n",
        "#wynikiem jest 7, to numer indeksu miejsca na ktorym znajduje sie pierwsza litera szukanego slowa"
      ],
      "metadata": {
        "colab": {
          "base_uri": "https://localhost:8080/"
        },
        "id": "Zjtak7NkMa5G",
        "outputId": "3e6de4a7-7c10-4435-89a5-5b3435afee37"
      },
      "execution_count": 17,
      "outputs": [
        {
          "output_type": "execute_result",
          "data": {
            "text/plain": [
              "7"
            ]
          },
          "metadata": {},
          "execution_count": 17
        }
      ]
    },
    {
      "cell_type": "code",
      "source": [
        "#indeksy [start:stop:step]\n",
        "\n",
        "napis2=\"Python\"\n",
        "print(napis2[0:5:2]) #--> P t o"
      ],
      "metadata": {
        "colab": {
          "base_uri": "https://localhost:8080/"
        },
        "id": "v0cRkRPlVqe3",
        "outputId": "c5beaa57-8d1d-4102-89d7-58ac23490ae7"
      },
      "execution_count": 38,
      "outputs": [
        {
          "output_type": "stream",
          "name": "stdout",
          "text": [
            "Pto\n"
          ]
        }
      ]
    },
    {
      "cell_type": "markdown",
      "source": [
        "#Zadania do przecwiczenia"
      ],
      "metadata": {
        "id": "2tkHXLDiNfVY"
      }
    },
    {
      "cell_type": "code",
      "source": [
        "#zad. 1. Napisz program, który poprosi użytkownika o wprowadzenie dowolnego zdania, a następnie: Policzy, ile razy w tym zdaniu występuje litera 'a' (zarówno małe 'a', jak i wielkie 'A’).\n",
        "\n",
        "zdanie = input(\"Wpisz dowolne zdanie: \")\n",
        "zdanie = zdanie.lower().count(\"a\")\n",
        "\n",
        "print(\"ilosc wystapien litery a: \", zdanie)\n"
      ],
      "metadata": {
        "colab": {
          "base_uri": "https://localhost:8080/"
        },
        "id": "O7Lp38wkNGZY",
        "outputId": "27911ecb-cf4d-441f-e196-fa5aadc35367"
      },
      "execution_count": 37,
      "outputs": [
        {
          "output_type": "stream",
          "name": "stdout",
          "text": [
            "Wpisz dowolne zdanie: takie sobie a dowolne zdanie\n",
            "ilosc wystapien litery a:  3\n"
          ]
        }
      ]
    },
    {
      "cell_type": "code",
      "source": [
        "#zad. 2. Napisz program, który poprosi użytkownika o wprowadzenie dowolnego wyrazu lub zdania, a następnie wyświetli ten tekst w odwróconej kolejności.\n",
        "\n",
        "wyraz = input(\"Wpisz dowolny wyraz: \")\n",
        "odwrocony_wyraz = wyraz[::-1] #przy indeksowaniu mamy [start:stop:step] wiec dajemy start i stop jako puste pola, stawiamy tylko znaki rozdzialu \":\" i step -1 zeby zaczac od konca.\n",
        "\n",
        "print(\"Tak wyglda odwrocony wyraz:\", odwrocony_wyraz)"
      ],
      "metadata": {
        "colab": {
          "base_uri": "https://localhost:8080/"
        },
        "id": "kMa4ZXYAN-_i",
        "outputId": "2efc3588-5ec6-4469-f7ec-dcb649feeb90"
      },
      "execution_count": 36,
      "outputs": [
        {
          "output_type": "stream",
          "name": "stdout",
          "text": [
            "Wpisz dowolny wyraz: wyraz\n",
            "Tak wyglda odwrocony wyraz: zaryw\n"
          ]
        }
      ]
    },
    {
      "cell_type": "code",
      "source": [
        "#zad. 3. Napisz program, który poprosi użytkownika o wprowadzenie zdania, a następnie: Zamieni wszystkie spacje na znak podkreślenia _Zamieni wszystkie litery na wielkie.\n",
        "\n",
        "zdanie2 = input(\"wpisz dowolne zdanie: \")\n",
        "zdanie2_zmiana = zdanie2.replace(\" \", \"_\")\n",
        "\n",
        "print(\"tak wyglada zmienione zdanie: \", zdanie2_zmiana.upper())"
      ],
      "metadata": {
        "colab": {
          "base_uri": "https://localhost:8080/"
        },
        "id": "Ryxvi4ASOBnk",
        "outputId": "b1cb8ea8-03e4-41eb-c848-c85c2100b6d1"
      },
      "execution_count": 34,
      "outputs": [
        {
          "output_type": "stream",
          "name": "stdout",
          "text": [
            "wpisz dowolne zdanie: dowolne zdanie tak wyglada\n",
            "tak wyglada zmienione zdanie:  DOWOLNE_ZDANIE_TAK_WYGLADA\n"
          ]
        }
      ]
    },
    {
      "cell_type": "markdown",
      "source": [
        "# Wartosci logiczne"
      ],
      "metadata": {
        "id": "X4zdj6S5Zu0z"
      }
    },
    {
      "cell_type": "code",
      "source": [
        "czy_jestes_glodny = True\n",
        "#czy_jestes_glodny = False\n",
        "if czy_jestes_glodny:\n",
        "  print(\"Idz cos zjesc\")\n"
      ],
      "metadata": {
        "colab": {
          "base_uri": "https://localhost:8080/"
        },
        "id": "5KhAYHyJZxm0",
        "outputId": "d2a853a5-c152-4c88-bde0-a11e427ed15a"
      },
      "execution_count": 41,
      "outputs": [
        {
          "output_type": "stream",
          "name": "stdout",
          "text": [
            "Idz cos zjesc\n"
          ]
        }
      ]
    },
    {
      "cell_type": "code",
      "source": [
        "print(czy_jestes_glodny)"
      ],
      "metadata": {
        "colab": {
          "base_uri": "https://localhost:8080/"
        },
        "id": "AbGwD1pXbOTj",
        "outputId": "eab988cf-9617-47e8-e94d-abda1b87d29b"
      },
      "execution_count": 42,
      "outputs": [
        {
          "output_type": "stream",
          "name": "stdout",
          "text": [
            "True\n"
          ]
        }
      ]
    },
    {
      "cell_type": "code",
      "source": [
        "#alternatywa - operator or -przynajmniej jedna wartosc logiczna musi byc prawda, aby otrzymac prawde\n",
        "\n",
        "print(True or False)\n",
        "print(True or True)\n",
        "print(False or False)\n",
        "print(False or True)"
      ],
      "metadata": {
        "colab": {
          "base_uri": "https://localhost:8080/"
        },
        "id": "ME6BaOXYcQgo",
        "outputId": "b2306547-b317-4eec-ceba-33d80bb94740"
      },
      "execution_count": 47,
      "outputs": [
        {
          "output_type": "stream",
          "name": "stdout",
          "text": [
            "True\n",
            "True\n",
            "False\n",
            "True\n"
          ]
        }
      ]
    },
    {
      "cell_type": "code",
      "source": [
        "#koniunkcja - operator and - obie wartosci musza byc prawda, aby otrzymac prawde\n",
        "\n",
        "print(True and False)\n",
        "print(True and True)\n",
        "print(False and False)\n",
        "print(False and True)"
      ],
      "metadata": {
        "colab": {
          "base_uri": "https://localhost:8080/"
        },
        "id": "Ck9Vxugfbazf",
        "outputId": "34e1a284-3334-424f-e47d-da716c89dd66"
      },
      "execution_count": 48,
      "outputs": [
        {
          "output_type": "stream",
          "name": "stdout",
          "text": [
            "False\n",
            "True\n",
            "False\n",
            "False\n"
          ]
        }
      ]
    },
    {
      "cell_type": "code",
      "source": [
        "#negacja - operator not - zamienia wartosc logiczna na przeciwna\n",
        "\n",
        "print(not True)\n",
        "print(not False)"
      ],
      "metadata": {
        "colab": {
          "base_uri": "https://localhost:8080/"
        },
        "id": "vUY_XoJUcyfP",
        "outputId": "50c775fa-e2a9-444b-efab-881c9e69c7aa"
      },
      "execution_count": 49,
      "outputs": [
        {
          "output_type": "stream",
          "name": "stdout",
          "text": [
            "False\n",
            "True\n"
          ]
        }
      ]
    },
    {
      "cell_type": "code",
      "source": [
        "# operatory:\n",
        "# == rowne\n",
        "# != nierowne\n",
        "# < mniejsze\n",
        "# > wieksze\n",
        "# <== mniejsze lub rowne\n",
        "# >== wieksze lub rowne\n"
      ],
      "metadata": {
        "id": "X71xc2qgdlat"
      },
      "execution_count": null,
      "outputs": []
    },
    {
      "cell_type": "code",
      "source": [
        "a = 10\n",
        "b = 20\n",
        "\n",
        "print(a==b)\n",
        "print(a!=b)\n",
        "print(a<b)\n",
        "print(a>b)\n",
        "print(a <= b)\n",
        "print(a >= b)"
      ],
      "metadata": {
        "colab": {
          "base_uri": "https://localhost:8080/"
        },
        "id": "_c8SvoRxdyTH",
        "outputId": "2a0ecf4e-fe64-4a67-afca-3965f1ed02aa"
      },
      "execution_count": 54,
      "outputs": [
        {
          "output_type": "stream",
          "name": "stdout",
          "text": [
            "False\n",
            "True\n",
            "True\n",
            "False\n",
            "True\n",
            "False\n"
          ]
        }
      ]
    },
    {
      "cell_type": "markdown",
      "source": [
        "# Instrukcje warunkowe"
      ],
      "metadata": {
        "id": "A0dmDEShfIRk"
      }
    },
    {
      "cell_type": "code",
      "source": [
        "punkty = 80\n",
        "\n",
        "if punkty < 100 and punkty > 90:\n",
        "  print(\"Ocena 6\")\n",
        "else:\n",
        "  print(\"Ocena 5\")\n"
      ],
      "metadata": {
        "colab": {
          "base_uri": "https://localhost:8080/"
        },
        "id": "_r8GeBStfKpy",
        "outputId": "6d4fc8a1-0f19-4aa9-f35f-a7e9a454f08b"
      },
      "execution_count": 55,
      "outputs": [
        {
          "output_type": "stream",
          "name": "stdout",
          "text": [
            "Ocena 5\n"
          ]
        }
      ]
    },
    {
      "cell_type": "code",
      "source": [
        "punkty = 80\n",
        "\n",
        "if punkty < 100 or punkty > 90:\n",
        "  print(\"Ocena 6\")\n",
        "else:\n",
        "  print(\"Ocena 5\")"
      ],
      "metadata": {
        "colab": {
          "base_uri": "https://localhost:8080/"
        },
        "id": "-QnAajFFieyl",
        "outputId": "e384640a-93e3-4203-9de3-ad25b2c19dea"
      },
      "execution_count": 56,
      "outputs": [
        {
          "output_type": "stream",
          "name": "stdout",
          "text": [
            "Ocena 6\n"
          ]
        }
      ]
    },
    {
      "cell_type": "code",
      "source": [
        "punkty = 80\n",
        "\n",
        "if punkty == 100:\n",
        "  print(\"jestes geniuszem\")\n",
        "elif punkty >= 90:\n",
        "  print(\"Masz ocene 5\")\n",
        "elif punkty > 50 and punkty < 89:\n",
        "  print(\"Jest dobrze\")\n",
        "else:\n",
        "  print(\"Musisz sie poduczyc\")"
      ],
      "metadata": {
        "colab": {
          "base_uri": "https://localhost:8080/"
        },
        "id": "bSn2n4xfiiiP",
        "outputId": "12e76359-f52c-4c3d-cdfe-91d4ca579660"
      },
      "execution_count": 60,
      "outputs": [
        {
          "output_type": "stream",
          "name": "stdout",
          "text": [
            "Jest dobrze\n"
          ]
        }
      ]
    },
    {
      "cell_type": "code",
      "source": [
        "temp = float(input(\"Podaj temperature w stopniach celc: \"))\n",
        "fahr = 9/5*temp+32\n",
        "print(fahr)\n",
        "if fahr <= 32:\n",
        "  print(\"Temperatura ponizej 0 :\", temp)\n",
        "\n",
        "if fahr >= 212:\n",
        "  print(\"temperatura wrzenia \", temp)\n",
        "\n",
        "if fahr > 1 or fahr <99:\n",
        "  print(\"Temperatura w celc. \", temp)"
      ],
      "metadata": {
        "colab": {
          "base_uri": "https://localhost:8080/"
        },
        "id": "GQ6Jt1yEjhDs",
        "outputId": "1264e4de-a8f6-443e-e415-5b8c11f88662"
      },
      "execution_count": 67,
      "outputs": [
        {
          "output_type": "stream",
          "name": "stdout",
          "text": [
            "Podaj temperature w stopniach celc: 40\n",
            "104.0\n",
            "Temperatura w celc.  40.0\n"
          ]
        }
      ]
    },
    {
      "cell_type": "code",
      "source": [
        "# warunek w warunku\n",
        "\n",
        "x = 401\n",
        "\n",
        "if x % 2 == 0:\n",
        "  if x > 300:\n",
        "    print(\"X wieksze od 300\")\n",
        "  elif x <= 300:\n",
        "    print(\"X mniejsze lub rowne 300\")\n",
        "else:\n",
        "  print(\"X nie jest parzysty\")"
      ],
      "metadata": {
        "colab": {
          "base_uri": "https://localhost:8080/"
        },
        "id": "MihM3vauswTA",
        "outputId": "34b8594d-e171-49a7-93ee-2ce0453a14db"
      },
      "execution_count": 86,
      "outputs": [
        {
          "output_type": "stream",
          "name": "stdout",
          "text": [
            "X nie jest parzysty\n"
          ]
        }
      ]
    },
    {
      "cell_type": "markdown",
      "source": [
        "# Zadania do przecwiczenia"
      ],
      "metadata": {
        "id": "MNC8xzTaloGi"
      }
    },
    {
      "cell_type": "code",
      "source": [
        "#Zad. 1. Napisz program, który poprosi użytkownika o podanie swojego wzrostu oraz wagi, a następnie:\n",
        "#Policzy, wskaźnik BMI - BMI = kg / m^2. (wagę wyrażoną w kilogramach przez wzrost w metrach podniesiony do kwadratu)\n",
        "#Wydrukuje odpowiedni komunikat, zakładając poniższe ramy:\n",
        "#niedowagę – poniżej 18,5;\n",
        "#wagę prawidłową – 18,6-24,9;\n",
        "#nadwagę – 25-29,9;\n",
        "#Otyłość - 30 i więcej.\n",
        "\n",
        "wzrost = float(input(\"Podaj swoj wzrost w metrach: \"))\n",
        "waga = float(input(\"Podaj swoja wage w kilogramach: \"))\n",
        "\n",
        "BMI = waga/wzrost**2\n",
        "\n",
        "if BMI < 18.5:\n",
        "  print(f\"Masz niedowage, Twoje BMI wynosi {BMI} skontaktuj sie z lekarzem\")\n",
        "elif 18.6 <= BMI <= 24.9:\n",
        "  print(f\"Masz prawidlowa wage, Twoje BMI wynosi {BMI} mozesz zjesc ciacho\")\n",
        "elif 25 <= BMI <= 29.9:\n",
        "  print(f\"Masz nadwage, Twoje BMI wynosi {BMI} zacznij chodzic na spacery\")\n",
        "else:\n",
        "  print(f\"Masz otyłość, Twoje BMI wynosi {BMI} musisz zacząć ćwiczyć\")"
      ],
      "metadata": {
        "colab": {
          "base_uri": "https://localhost:8080/"
        },
        "id": "uSQ1MlBIlq8k",
        "outputId": "f257e074-f98d-43a4-bc60-085b60eed325"
      },
      "execution_count": 81,
      "outputs": [
        {
          "output_type": "stream",
          "name": "stdout",
          "text": [
            "Podaj swoj wzrost w metrach: 1.64\n",
            "Podaj swoja wage w kilogramach: 58\n",
            "Masz prawidlowa wage, Twoje BMI wynosi 21.564544913741823 mozesz zjesc ciacho\n"
          ]
        }
      ]
    },
    {
      "cell_type": "code",
      "source": [
        "#Zad. 2. Napisz program, który poprosi użytkownika o wprowadzenie liczby całkowitej, a następnie:\n",
        "#Sprawdzi, czy liczba jest jednocześnie parzysta i dodatnia\n",
        "\n",
        "liczba = eval(input(\"Wprowadz liczbe: \"))\n",
        "\n",
        "if liczba > 0 and liczba % 2 == 0:\n",
        "  print(\"Twoja liczba jest parzysta i dodatnia\")\n",
        "else:\n",
        "  print(\"Liczba nie spelnia obu warunkow\")"
      ],
      "metadata": {
        "colab": {
          "base_uri": "https://localhost:8080/"
        },
        "id": "V66wK-v5ls6F",
        "outputId": "8bf70fbe-c9a6-46b8-afda-1b7b07a18f31"
      },
      "execution_count": 84,
      "outputs": [
        {
          "output_type": "stream",
          "name": "stdout",
          "text": [
            "Wprowadz liczbe: 45\n",
            "Liczba nie spelnia obu warunkow\n"
          ]
        }
      ]
    }
  ]
}