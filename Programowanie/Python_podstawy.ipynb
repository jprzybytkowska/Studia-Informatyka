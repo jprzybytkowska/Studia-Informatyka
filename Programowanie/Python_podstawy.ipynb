{
  "nbformat": 4,
  "nbformat_minor": 0,
  "metadata": {
    "colab": {
      "provenance": [],
      "authorship_tag": "ABX9TyMlO99usIXbmzkoKX3YEus7",
      "include_colab_link": true
    },
    "kernelspec": {
      "name": "python3",
      "display_name": "Python 3"
    },
    "language_info": {
      "name": "python"
    }
  },
  "cells": [
    {
      "cell_type": "markdown",
      "metadata": {
        "id": "view-in-github",
        "colab_type": "text"
      },
      "source": [
        "<a href=\"https://colab.research.google.com/github/jprzybytkowska/Studia-Informatyka/blob/main/Python_podstawy.ipynb\" target=\"_parent\"><img src=\"https://colab.research.google.com/assets/colab-badge.svg\" alt=\"Open In Colab\"/></a>"
      ]
    },
    {
      "cell_type": "markdown",
      "source": [
        "# Zjazd numer 1 - Podstawy Python"
      ],
      "metadata": {
        "id": "ZcHgWxuVF5Si"
      }
    },
    {
      "cell_type": "markdown",
      "source": [
        "# 23.11.2024"
      ],
      "metadata": {
        "id": "_awgsT6nGbeV"
      }
    },
    {
      "cell_type": "markdown",
      "source": [
        "# Podstawy typy numeryczne"
      ],
      "metadata": {
        "id": "cC-MBAGZGmhZ"
      }
    },
    {
      "cell_type": "code",
      "source": [
        "\n",
        "#dodawanie\n",
        "a = 10\n",
        "b = 20\n",
        "print(a+b)"
      ],
      "metadata": {
        "colab": {
          "base_uri": "https://localhost:8080/"
        },
        "id": "VJQzSER9FJ4l",
        "outputId": "f334afde-a7da-4233-d61a-d6b232204a3b"
      },
      "execution_count": null,
      "outputs": [
        {
          "output_type": "stream",
          "name": "stdout",
          "text": [
            "30\n"
          ]
        }
      ]
    },
    {
      "cell_type": "code",
      "source": [
        "#odejmowanie\n",
        "a = 5\n",
        "b = 3\n",
        "print(a-b)"
      ],
      "metadata": {
        "colab": {
          "base_uri": "https://localhost:8080/"
        },
        "id": "AfkBJ9trSGFT",
        "outputId": "f74627ec-7919-4405-d051-0d509c4f1c16"
      },
      "execution_count": null,
      "outputs": [
        {
          "output_type": "stream",
          "name": "stdout",
          "text": [
            "2\n"
          ]
        }
      ]
    },
    {
      "cell_type": "code",
      "source": [
        "#mnozenie\n",
        "wynik = a*b\n",
        "print(wynik)"
      ],
      "metadata": {
        "colab": {
          "base_uri": "https://localhost:8080/"
        },
        "id": "tWHYMXTMSjYu",
        "outputId": "942dad93-f914-4ad9-952d-fcbddd6710c7"
      },
      "execution_count": null,
      "outputs": [
        {
          "output_type": "stream",
          "name": "stdout",
          "text": [
            "15\n"
          ]
        }
      ]
    },
    {
      "cell_type": "code",
      "source": [
        "#dzielenie\n",
        "wynik = a/b\n",
        "print(wynik)"
      ],
      "metadata": {
        "colab": {
          "base_uri": "https://localhost:8080/"
        },
        "id": "2Z6GYMSUTLSV",
        "outputId": "fa317362-73e6-491a-a387-3bfc3e82a246"
      },
      "execution_count": null,
      "outputs": [
        {
          "output_type": "stream",
          "name": "stdout",
          "text": [
            "1.6666666666666667\n"
          ]
        }
      ]
    },
    {
      "cell_type": "code",
      "source": [
        "#dzielenie bez reszty/dzielenie calkowite\n",
        "print(a//b)"
      ],
      "metadata": {
        "colab": {
          "base_uri": "https://localhost:8080/"
        },
        "id": "bDQVP2o4TRh6",
        "outputId": "656189cd-819c-4b52-ccbe-c75fc24a0336"
      },
      "execution_count": null,
      "outputs": [
        {
          "output_type": "stream",
          "name": "stdout",
          "text": [
            "1\n"
          ]
        }
      ]
    },
    {
      "cell_type": "code",
      "source": [
        "#dzielenie modulo - wyznaczenie reszty z dzielenia\n",
        "18%7"
      ],
      "metadata": {
        "colab": {
          "base_uri": "https://localhost:8080/"
        },
        "id": "rBCO3aSNTa98",
        "outputId": "e699ed28-9779-40e2-a814-163d15c6da0f"
      },
      "execution_count": null,
      "outputs": [
        {
          "output_type": "execute_result",
          "data": {
            "text/plain": [
              "4"
            ]
          },
          "metadata": {},
          "execution_count": 13
        }
      ]
    },
    {
      "cell_type": "markdown",
      "source": [
        "Konwersja typow danych"
      ],
      "metadata": {
        "id": "83esQICDT-rd"
      }
    },
    {
      "cell_type": "code",
      "source": [
        "int_ = int(1.3847384)\n",
        "fl = float(15)\n",
        "compl = complex(2)\n",
        "\n",
        "print(int_)\n",
        "print(fl)\n",
        "print(compl)"
      ],
      "metadata": {
        "colab": {
          "base_uri": "https://localhost:8080/"
        },
        "id": "OD_B8QOdT8Nt",
        "outputId": "c0adb328-36e9-4b5a-cb4e-1e0d3a0a6c63"
      },
      "execution_count": null,
      "outputs": [
        {
          "output_type": "stream",
          "name": "stdout",
          "text": [
            "1\n",
            "15.0\n",
            "(2+0j)\n"
          ]
        }
      ]
    },
    {
      "cell_type": "markdown",
      "source": [
        "Pobieranie danych od uzytkownika"
      ],
      "metadata": {
        "id": "sb9ejRVEUfKn"
      }
    },
    {
      "cell_type": "code",
      "source": [
        "pobranie = eval(input(\"Wpisz liczbe \"))\n",
        "wynik = pobranie**2\n",
        "print(\"Twoja liczba podniesiona do kwadratu to: \", wynik)"
      ],
      "metadata": {
        "colab": {
          "base_uri": "https://localhost:8080/"
        },
        "id": "y92P_8tIUiL1",
        "outputId": "f784a411-d28f-4dc8-f53f-6fdbbb16ab29"
      },
      "execution_count": null,
      "outputs": [
        {
          "output_type": "stream",
          "name": "stdout",
          "text": [
            "Wpisz liczbe 5\n",
            "Twoja liczba podniesiona do kwadratu to:  25\n"
          ]
        }
      ]
    },
    {
      "cell_type": "code",
      "source": [
        "liczba = eval(input(\"Wpisz liczbe: \"))\n",
        "print(liczba*2, \"---\", liczba*3, \"---\", liczba*4, \"---\", liczba*5, \"---\")"
      ],
      "metadata": {
        "colab": {
          "base_uri": "https://localhost:8080/"
        },
        "id": "dxLbU2czVL9K",
        "outputId": "d2adb644-8da7-41c2-e3ba-f9357837c12b"
      },
      "execution_count": null,
      "outputs": [
        {
          "output_type": "stream",
          "name": "stdout",
          "text": [
            "Wpisz liczbe: 10\n",
            "20 --- 30 --- 40 --- 50 ---\n"
          ]
        }
      ]
    },
    {
      "cell_type": "code",
      "source": [
        "#pobranie trzech liczb od uzytkownika i obliczenie sredniej arytmetycznej\n",
        "\n",
        "liczba1 = eval(input(\"Wpisz liczbe 1: \"))\n",
        "liczba2 = eval(input(\"Wpisz liczbe 2: \"))\n",
        "liczba3 = eval(input(\"Wpisz liczbe 3: \"))\n",
        "srednia = (liczba1 + liczba2 + liczba3)/3\n",
        "print(\"srednia Twoich liczb to: \", srednia)"
      ],
      "metadata": {
        "colab": {
          "base_uri": "https://localhost:8080/"
        },
        "id": "mePbo_8zVtM9",
        "outputId": "bc1452a2-27aa-4514-b82a-cc4cff498e93"
      },
      "execution_count": null,
      "outputs": [
        {
          "output_type": "stream",
          "name": "stdout",
          "text": [
            "Wpisz liczbe 1: 4\n",
            "Wpisz liczbe 2: 5\n",
            "Wpisz liczbe 3: 4\n",
            "srednia Twoich liczb to:  4.333333333333333\n"
          ]
        }
      ]
    },
    {
      "cell_type": "code",
      "source": [
        "#zmiana wagi z kilogramow na funty\n",
        "\n",
        "waga = eval(input(\"wpisz swoja wage: \"))\n",
        "\n",
        "funty =  waga * 2.2\n",
        "\n",
        "print(\"Twoja waga w funtach to: \", funty)"
      ],
      "metadata": {
        "colab": {
          "base_uri": "https://localhost:8080/"
        },
        "id": "xfzPDPwWWZPg",
        "outputId": "a22e4ae9-feb7-4ebf-bd78-459b803f333d"
      },
      "execution_count": null,
      "outputs": [
        {
          "output_type": "stream",
          "name": "stdout",
          "text": [
            "wpisz swoja wage: 100\n",
            "Twoja waga w funtach to:  220.00000000000003\n"
          ]
        }
      ]
    },
    {
      "cell_type": "code",
      "source": [
        "#kalkulator dzielenia\n",
        "\n",
        "liczba1 = eval(input(\"wpisz liczbe, ktora chcesz podzielic \"))\n",
        "liczba2 = eval(input(\"wpisz dzielnik \"))\n",
        "\n",
        "wynik = liczba1/liczba2\n",
        "print(\"Wynik to: \", wynik)"
      ],
      "metadata": {
        "colab": {
          "base_uri": "https://localhost:8080/"
        },
        "id": "51LNebFcXrzb",
        "outputId": "4e95d70a-2b6d-42d2-86b0-d7675869af7c"
      },
      "execution_count": null,
      "outputs": [
        {
          "output_type": "stream",
          "name": "stdout",
          "text": [
            "wpisz liczbe, ktora chcesz podzielic 10\n",
            "wpisz dzielnik 2\n",
            "Wynik to:  5.0\n"
          ]
        }
      ]
    },
    {
      "cell_type": "code",
      "source": [
        "#nalezy zwrocic uwage na kolejnosc wykonywania dzialan\n",
        "(3+8)**2+(32/4+8)"
      ],
      "metadata": {
        "colab": {
          "base_uri": "https://localhost:8080/"
        },
        "id": "0QE9gWzhYp5a",
        "outputId": "4beb5d26-5db3-4930-eb2c-a9df8f0f4b7f"
      },
      "execution_count": null,
      "outputs": [
        {
          "output_type": "execute_result",
          "data": {
            "text/plain": [
              "137.0"
            ]
          },
          "metadata": {},
          "execution_count": 22
        }
      ]
    },
    {
      "cell_type": "markdown",
      "source": [
        "# Zadania do przecwiczenia"
      ],
      "metadata": {
        "id": "gmFPwz4fZYdM"
      }
    },
    {
      "cell_type": "code",
      "source": [
        "#zad 1 Napisz program, ktory obliczy nastepujace wyrazenie:  (5*2-(6+(-1))) / (8-3)\n",
        "\n",
        "wynik = ((5*2)-(6+(-1)))/(8-3)\n",
        "print(\"Wynik wyrazenia to: \", wynik)\n"
      ],
      "metadata": {
        "colab": {
          "base_uri": "https://localhost:8080/"
        },
        "id": "Jtq0swuiZWod",
        "outputId": "1d29c61c-7a1e-4a87-b261-dbe425e28de1"
      },
      "execution_count": null,
      "outputs": [
        {
          "output_type": "stream",
          "name": "stdout",
          "text": [
            "Wynik wyrazenia to:  1.0\n"
          ]
        }
      ]
    },
    {
      "cell_type": "code",
      "source": [
        "# zad 2 Napisz program, który przyjmuje wartości: a = 10, b = 4, c = 7, Wszystkie zmienne podnieś do potęgi 3, po czym wyświetl ich łączną sumę.\n",
        "a=10\n",
        "b=4\n",
        "c=7\n",
        "\n",
        "wynik = ((a**3)+(b**3)+(c**3))\n",
        "print(\"Suma to: \", wynik)"
      ],
      "metadata": {
        "colab": {
          "base_uri": "https://localhost:8080/"
        },
        "id": "1sVoZSuXaISM",
        "outputId": "a55b783a-e05d-485d-9aa2-8d25efd7b272"
      },
      "execution_count": null,
      "outputs": [
        {
          "output_type": "stream",
          "name": "stdout",
          "text": [
            "Suma to:  1407\n"
          ]
        }
      ]
    },
    {
      "cell_type": "code",
      "source": [
        "# zad 3 Napisz program, który pobiera od użytkownika 2 liczby, po czym oblicza ich różnicę.\n",
        "\n",
        "liczba1=eval(input(\"wpisz liczbe nr 1: \"))\n",
        "liczba2=eval(input(\"wpisz liczbe nr 2: \"))\n",
        "\n",
        "wynik = liczba1-liczba2\n",
        "print(\"Roznica wynosi: \", wynik)"
      ],
      "metadata": {
        "colab": {
          "base_uri": "https://localhost:8080/"
        },
        "id": "XDlgBLyyaiU8",
        "outputId": "5af74009-b795-4447-b223-5f7aad6ef019"
      },
      "execution_count": null,
      "outputs": [
        {
          "output_type": "stream",
          "name": "stdout",
          "text": [
            "wpisz liczbe nr 1: 5\n",
            "wpisz liczbe nr 2: 5\n",
            "Roznica wynosi:  0\n"
          ]
        }
      ]
    },
    {
      "cell_type": "code",
      "source": [
        "# zad 4 Napisz program, który pobiera od użytkownika temperaturę w stopniach celcjusza, następnie przelicz podane stopnie na stopnie Fahrenheita za pomocą przekształcenia: fahrenheit = celsius * (9 / 5) + 32\n",
        "\n",
        "temperatura=float(input(\"podaj temperature w stopniach celsjusza: \"))\n",
        "\n",
        "fahrenheit = temperatura * (9/5)+32\n",
        "\n",
        "print(\"Temperatura w fahrenheitach to: \", fahrenheit)"
      ],
      "metadata": {
        "colab": {
          "base_uri": "https://localhost:8080/"
        },
        "id": "KrZlx2w-a7bj",
        "outputId": "cfa16d25-c006-47c9-a66a-5fe01ac9168b"
      },
      "execution_count": null,
      "outputs": [
        {
          "output_type": "stream",
          "name": "stdout",
          "text": [
            "podaj temperature w stopniach celsjusza: 1.5\n",
            "Temperatura w fahrenheitach to:  34.7\n"
          ]
        }
      ]
    },
    {
      "cell_type": "markdown",
      "source": [
        "# 24.11.2024"
      ],
      "metadata": {
        "id": "RWuckJaMGxQG"
      }
    }
  ]
}
